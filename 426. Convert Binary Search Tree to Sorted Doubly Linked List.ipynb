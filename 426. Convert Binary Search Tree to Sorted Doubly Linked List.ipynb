{
    "cells": [
        {
            "cell_type": "markdown",
            "metadata": {},
            "source": [
                "# 426. Convert Binary Search Tree to Sorted Doubly Linked List\n",
                "\n",
                "Convert a Binary Search Tree to a sorted Circular Doubly-Linked List in place.\n",
                "\n",
                "You can think of the left and right pointers as synonymous to the predecessor and successor pointers in a doubly-linked list. For a circular doubly linked list, the predecessor of the first element is the last element, and the successor of the last element is the first element.\n",
                "\n",
                "We want to do the transformation **in place**. After the transformation, the left pointer of the tree node should point to its predecessor, and the right pointer should point to its successor. You should return the pointer to the smallest element of the linked list.\n",
                "\n",
                "首先 in-place 不一定 O(1) 空间但是反过来则是对的"
            ]
        },
        {
            "cell_type": "code",
            "execution_count": 1,
            "metadata": {},
            "outputs": [],
            "source": [
                "# Time Complexity: O(logN)\n",
                "# Space Complexity: O(1)\n",
                "\n",
                "from typing import Optional\n",
                "\n",
                "class Node:\n",
                "    def __init__(self, val, left=None, right=None):\n",
                "        self.val = val\n",
                "        self.left = left\n",
                "        self.right = right\n",
                "\n",
                "class Solution:\n",
                "    def treeToDoublyList(self, root: 'Optional[Node]') -> 'Optional[Node]':\n",
                "        def tree2list(root):\n",
                "            if not root: return None, None\n",
                "            left_start, left_end = tree2list(root.left)\n",
                "            right_start, right_end = tree2list(root.right)\n",
                "            if left_end:\n",
                "                root.left = left_end\n",
                "                left_end.right = root\n",
                "            if right_start:\n",
                "                root.right = right_start\n",
                "                right_start.left = root\n",
                "            return left_start or root, right_end or root\n",
                "        \n",
                "        if not root: return None\n",
                "        start, end = tree2list(root)\n",
                "        start.left = end\n",
                "        end.right = start\n",
                "        return start"
            ]
        }
    ],
    "metadata": {
        "kernelspec": {
            "display_name": "Python 3",
            "language": "python",
            "name": "python3"
        },
        "language_info": {
            "codemirror_mode": {
                "name": "ipython",
                "version": 3
            },
            "file_extension": ".py",
            "mimetype": "text/x-python",
            "name": "python",
            "nbconvert_exporter": "python",
            "pygments_lexer": "ipython3",
            "version": "3.8.8"
        }
    },
    "nbformat": 4,
    "nbformat_minor": 2
}
