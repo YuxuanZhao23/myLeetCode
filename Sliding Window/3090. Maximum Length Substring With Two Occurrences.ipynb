{
    "cells": [
        {
            "cell_type": "markdown",
            "metadata": {},
            "source": [
                "# 3090. Maximum Length Substring With Two Occurrences\n",
                "\n",
                "Given a string s, return the maximum length of a substring such that it contains at most two occurrences of each character.\n",
                "\n",
                "https://leetcode.com/problems/maximum-length-substring-with-two-occurrences/description/"
            ]
        },
        {
            "cell_type": "code",
            "execution_count": 1,
            "metadata": {},
            "outputs": [],
            "source": [
                "from collections import defaultdict\n",
                "\n",
                "class Solution:\n",
                "    # Time Complexity: O(N)\n",
                "    # Space Complexity: O(N)\n",
                "    def maximumLengthSubstring(self, s: str) -> int:\n",
                "        freq = defaultdict(int)\n",
                "        right = 0\n",
                "        res = 0\n",
                "        for left in range(len(s)):\n",
                "            freq[s[left]] += 1\n",
                "            while freq[s[left]] > 2:\n",
                "                freq[s[right]] -= 1\n",
                "                right += 1\n",
                "            res = max(res, left - right + 1)\n",
                "        return res"
            ]
        }
    ],
    "metadata": {
        "kernelspec": {
            "display_name": "Python 3",
            "language": "python",
            "name": "python3"
        },
        "language_info": {
            "codemirror_mode": {
                "name": "ipython",
                "version": 3
            },
            "file_extension": ".py",
            "mimetype": "text/x-python",
            "name": "python",
            "nbconvert_exporter": "python",
            "pygments_lexer": "ipython3",
            "version": "3.8.8"
        }
    },
    "nbformat": 4,
    "nbformat_minor": 2
}
