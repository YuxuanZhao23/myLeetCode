{
    "cells": [
        {
            "cell_type": "markdown",
            "metadata": {},
            "source": [
                "# 2958. Length of Longest Subarray With at Most K Frequency\n",
                "\n",
                "You are given an integer array nums and an integer k.\n",
                "\n",
                "The frequency of an element x is the number of times it occurs in an array.\n",
                "\n",
                "An array is called good if the frequency of each element in this array is less than or equal to k.\n",
                "\n",
                "Return the length of the longest good subarray of nums.\n",
                "\n",
                "A subarray is a contiguous non-empty sequence of elements within an array.\n",
                "\n",
                "https://leetcode.com/problems/length-of-longest-subarray-with-at-most-k-frequency/description/"
            ]
        },
        {
            "cell_type": "code",
            "execution_count": 1,
            "metadata": {},
            "outputs": [],
            "source": [
                "from collections import defaultdict\n",
                "from typing import List\n",
                "\n",
                "class Solution:\n",
                "    # Time Complexity: O(N)\n",
                "    # Space Complexity: O(N)\n",
                "    def maxSubarrayLength(self, nums: List[int], k: int) -> int:\n",
                "        freq = defaultdict(int)\n",
                "        left, res = 0, 0\n",
                "        for right, n in enumerate(nums):\n",
                "            freq[n] += 1\n",
                "            while freq[n] > k:\n",
                "                freq[nums[left]] -= 1\n",
                "                left += 1\n",
                "            res = max(res, right - left + 1)\n",
                "        return res"
            ]
        }
    ],
    "metadata": {
        "kernelspec": {
            "display_name": "Python 3",
            "language": "python",
            "name": "python3"
        },
        "language_info": {
            "codemirror_mode": {
                "name": "ipython",
                "version": 3
            },
            "file_extension": ".py",
            "mimetype": "text/x-python",
            "name": "python",
            "nbconvert_exporter": "python",
            "pygments_lexer": "ipython3",
            "version": "3.8.8"
        }
    },
    "nbformat": 4,
    "nbformat_minor": 2
}
