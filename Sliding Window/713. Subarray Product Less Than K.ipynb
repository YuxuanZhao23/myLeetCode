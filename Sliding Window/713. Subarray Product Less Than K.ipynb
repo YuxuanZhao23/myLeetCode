{
    "cells": [
        {
            "cell_type": "markdown",
            "metadata": {},
            "source": [
                "# 713. Subarray Product Less Than K\n",
                "\n",
                "Given an array of integers nums and an integer k, return the number of contiguous subarrays where the product of all the elements in the subarray is strictly less than k.\n",
                "\n",
                "https://leetcode.com/problems/subarray-product-less-than-k/description/"
            ]
        },
        {
            "cell_type": "code",
            "execution_count": 1,
            "metadata": {},
            "outputs": [],
            "source": [
                "# Time Complexity: O(N)\n",
                "# Space Complexity: O(1)\n",
                "from typing import List\n",
                "\n",
                "class Solution:\n",
                "    def numSubarrayProductLessThanK(self, nums: List[int], k: int) -> int:\n",
                "        if k <= 1: return 0\n",
                "        pre_pro, left, res = 1, 0, 0\n",
                "        for right, n in enumerate(nums):\n",
                "            pre_pro *= n\n",
                "            while pre_pro >= k:\n",
                "                pre_pro /= nums[left]\n",
                "                left += 1\n",
                "            res += right - left + 1\n",
                "        return res"
            ]
        }
    ],
    "metadata": {
        "kernelspec": {
            "display_name": "Python 3",
            "language": "python",
            "name": "python3"
        },
        "language_info": {
            "codemirror_mode": {
                "name": "ipython",
                "version": 3
            },
            "file_extension": ".py",
            "mimetype": "text/x-python",
            "name": "python",
            "nbconvert_exporter": "python",
            "pygments_lexer": "ipython3",
            "version": "3.8.8"
        }
    },
    "nbformat": 4,
    "nbformat_minor": 2
}
