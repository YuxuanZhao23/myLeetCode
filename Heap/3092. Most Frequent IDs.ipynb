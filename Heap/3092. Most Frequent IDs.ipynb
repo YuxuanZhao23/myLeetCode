{
    "cells": [
        {
            "cell_type": "markdown",
            "metadata": {},
            "source": [
                "# 3092. Most Frequent IDs\n",
                "\n",
                "The problem involves tracking the frequency of IDs in a collection that changes over time. You have two integer arrays, nums and freq, of equal length n. Each element in nums represents an ID, and the corresponding element in freq indicates how many times that ID should be added to or removed from the collection at each step.\n",
                "\n",
                "Addition of IDs: If freq[i] is positive, it means freq[i] IDs with the value nums[i] are added to the collection at step i.\n",
                "Removal of IDs: If freq[i] is negative, it means -freq[i] IDs with the value nums[i] are removed from the collection at step i.\n",
                "Return an array ans of length n, where ans[i] represents the count of the most frequent ID in the collection after the ith step. If the collection is empty at any step, ans[i] should be 0 for that step.\n",
                "\n",
                "https://leetcode.com/problems/most-frequent-ids/description/\n",
                "\n",
                "正常求最大值的方法是 O(N) 但是我们可以利用 Heap 在 O(1) 时间内获取最大值，O(logN) 时间内弹出最大值"
            ]
        },
        {
            "cell_type": "code",
            "execution_count": 1,
            "metadata": {},
            "outputs": [],
            "source": [
                "from collections import defaultdict, heapq\n",
                "from typing import List\n",
                "\n",
                "class Solution:\n",
                "    # Time Complexity: O(NlogN)\n",
                "    # Space Complexity: O(N)\n",
                "    def mostFrequentIDs(self, nums: List[int], freq: List[int]) -> List[int]:\n",
                "        freq_dict = defaultdict(int)\n",
                "        h, res = [], []\n",
                "        for n, f in zip(nums, freq):\n",
                "            freq_dict[n] += f\n",
                "            heapq.heappush(h, (-freq_dict[n], n)) # 把 min heap 用成 max heap\n",
                "            while h and -h[0][0] != freq_dict[h[0][1]]: # 判断 h 可能不在，revert 数字\n",
                "                heapq.heappop(h)\n",
                "            res.append(-h[0][0] if h else 0) # 处理 h 为空的情况\n",
                "        return res\n",
                "              "
            ]
        }
    ],
    "metadata": {
        "kernelspec": {
            "display_name": "Python 3",
            "language": "python",
            "name": "python3"
        },
        "language_info": {
            "codemirror_mode": {
                "name": "ipython",
                "version": 3
            },
            "file_extension": ".py",
            "mimetype": "text/x-python",
            "name": "python",
            "nbconvert_exporter": "python",
            "pygments_lexer": "ipython3",
            "version": "3.8.8"
        }
    },
    "nbformat": 4,
    "nbformat_minor": 2
}
