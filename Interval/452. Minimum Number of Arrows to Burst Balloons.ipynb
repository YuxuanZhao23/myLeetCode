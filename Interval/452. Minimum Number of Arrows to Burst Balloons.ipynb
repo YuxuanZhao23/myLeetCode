{
 "cells": [
  {
   "cell_type": "markdown",
   "metadata": {},
   "source": [
    "# 452. Minimum Number of Arrows to Burst Balloons\n",
    "\n",
    "There are some spherical balloons taped onto a flat wall that represents the XY-plane. The balloons are represented as a 2D integer array points where points[i] = [xstart, xend] denotes a balloon whose horizontal diameter stretches between xstart and xend. You do not know the exact y-coordinates of the balloons.\n",
    "\n",
    "Arrows can be shot up directly vertically (in the positive y-direction) from different points along the x-axis. A balloon with xstart and xend is burst by an arrow shot at x if x_start <= x <= x_end. There is no limit to the number of arrows that can be shot. A shot arrow keeps traveling up infinitely, bursting any balloons in its path.\n",
    "\n",
    "Given the array points, return the minimum number of arrows that must be shot to burst all balloons.\n",
    "\n",
    "https://leetcode.com/problems/minimum-number-of-arrows-to-burst-balloons/description/"
   ]
  },
  {
   "cell_type": "code",
   "execution_count": null,
   "metadata": {},
   "outputs": [],
   "source": [
    "from typing import List\n",
    "\n",
    "class Solution:\n",
    "    # Space Complexity: O(1)\n",
    "    # Time Complexity: O(NlogN)\n",
    "    def findMinArrowShots(self, points: List[List[int]]) -> int:\n",
    "        if not points: return 0\n",
    "        # sort by x_end\n",
    "        points.sort(key = lambda x : x[1])\n",
    "        res = 1 # set the first arrow on the first_end\n",
    "        prev_end = points[0][1]\n",
    "        for x_start, x_end in points:\n",
    "            if prev_end < x_start:\n",
    "                res += 1\n",
    "                prev_end = x_end\n",
    "        return res"
   ]
  }
 ],
 "metadata": {
  "language_info": {
   "name": "python"
  }
 },
 "nbformat": 4,
 "nbformat_minor": 2
}
