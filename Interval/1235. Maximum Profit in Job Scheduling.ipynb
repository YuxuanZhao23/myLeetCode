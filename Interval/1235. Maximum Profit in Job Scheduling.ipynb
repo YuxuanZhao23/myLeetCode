{
 "cells": [
  {
   "cell_type": "markdown",
   "metadata": {},
   "source": [
    "# 1235. Maximum Profit in Job Scheduling\n",
    "\n",
    "We have n jobs, where every job is scheduled to be done from startTime[i] to endTime[i], obtaining a profit of profit[i].\n",
    "\n",
    "You're given the startTime, endTime and profit arrays, return the maximum profit you can take such that there are no two jobs in the subset with overlapping time range.\n",
    "\n",
    "If you choose a job that ends at time X you will be able to start another job that starts at time X.\n",
    "\n",
    "https://leetcode.com/problems/maximum-profit-in-job-scheduling/description/"
   ]
  },
  {
   "cell_type": "code",
   "execution_count": null,
   "metadata": {},
   "outputs": [],
   "source": [
    "from collections import deque\n",
    "from typing import List\n",
    "\n",
    "# Time Complexity: O(NlogN)\n",
    "# Space Complexity: O(N)\n",
    "def jobScheduling(self, startTime: List[int], endTime: List[int], profit: List[int]) -> int:\n",
    "        intervals = [(endTime[i], i) for i in range(len(endTime))]\n",
    "        intervals.sort() \n",
    "        dp = {0:0} \n",
    "        indices = deque([0])\n",
    "        for end, i in intervals:\n",
    "            # Binary Search for the closest last exist\n",
    "            left = 0\n",
    "            right = len(indices)-1\n",
    "            while left < right:\n",
    "                mid = left + (right - left)//2\n",
    "                if indices[mid] <= startTime[i]:\n",
    "                    right = mid\n",
    "                else:\n",
    "                    left = mid + 1\n",
    "            dp[end] = max(dp[indices[left]] + profit[i], dp[indices[0]])\n",
    "            indices.appendleft(end)\n",
    "        return dp[intervals[-1][0]]"
   ]
  }
 ],
 "metadata": {
  "language_info": {
   "name": "python"
  }
 },
 "nbformat": 4,
 "nbformat_minor": 2
}
