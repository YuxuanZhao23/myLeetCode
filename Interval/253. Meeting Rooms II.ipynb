{
    "cells": [
        {
            "cell_type": "markdown",
            "metadata": {},
            "source": [
                "# 253. Meeting Rooms II\n",
                "\n",
                "Given an array of meeting time intervals intervals where intervals[i] = [starti, endi], return the minimum number of conference rooms required.\n",
                "\n",
                "https://leetcode.com/problems/meeting-rooms-ii/description/"
            ]
        },
        {
            "cell_type": "code",
            "execution_count": 1,
            "metadata": {},
            "outputs": [],
            "source": [
                "from typing import List\n",
                "\n",
                "class Solution:\n",
                "    # Time Complexity: O(NlogN)\n",
                "    # Space Complexity: O(N)\n",
                "    def minMeetingRooms(self, intervals: List[List[int]]) -> int:\n",
                "        interval = []\n",
                "        for start, end in intervals:\n",
                "            interval.append((start, 1))\n",
                "            interval.append((end, -1)) # 为什么是-1？因为我们要确保如果有开始结束时间相同的情况下start会在end后面\n",
                "        interval.sort()\n",
                "        count = 0 # 当前需要多少个会议室\n",
                "        res = 0 # 最大的时候需要多少个会议室\n",
                "        for _, flag in interval:\n",
                "            if flag == 1:\n",
                "                count += 1\n",
                "                res = max(res, count)\n",
                "            else:\n",
                "                count -= 1\n",
                "        return res"
            ]
        }
    ],
    "metadata": {
        "kernelspec": {
            "display_name": "Python 3",
            "language": "python",
            "name": "python3"
        },
        "language_info": {
            "codemirror_mode": {
                "name": "ipython",
                "version": 3
            },
            "file_extension": ".py",
            "mimetype": "text/x-python",
            "name": "python",
            "nbconvert_exporter": "python",
            "pygments_lexer": "ipython3",
            "version": "3.8.8"
        }
    },
    "nbformat": 4,
    "nbformat_minor": 2
}
