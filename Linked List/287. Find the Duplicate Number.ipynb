{
    "cells": [
        {
            "cell_type": "markdown",
            "metadata": {},
            "source": [
                "# 287. Find the Duplicate Number\n",
                "\n",
                "Given an array of integers nums containing n + 1 integers where each integer is in the range [1, n] inclusive.\n",
                "\n",
                "There is only one repeated number in nums, return this repeated number.\n",
                "\n",
                "You must solve the problem without modifying the array nums and uses only constant extra space.\n",
                "\n",
                "难点在于将题目转化成链表然后 Floyd's Cycle Detection。小细节是在 nums 里重复的数字在想象的链表中应当是**同一个** node\n",
                "\n",
                "友题：[442. Find All Duplicates in an Array](https://github.com/YuxuanZhao23/LeetCode/blob/main/Cycle%20Sort/442.%20Find%20All%20Duplicates%20in%20an%20Array.ipynb) 那题可以改nums，这道只有一个重复的数字"
            ]
        },
        {
            "cell_type": "code",
            "execution_count": 1,
            "metadata": {},
            "outputs": [],
            "source": [
                "from typing import List\n",
                "\n",
                "class Solution:\n",
                "    # Time Complexity: O(N)\n",
                "    # Space Complexity: O(1)\n",
                "    def findDuplicate(self, nums: List[int]) -> int:\n",
                "        slow, fast = nums[0], nums[nums[0]] # 先走一步初始化成不一样的，不然 while loop 进不去\n",
                "        while slow != fast: # 有环才会相遇\n",
                "            slow = nums[slow]\n",
                "            fast = nums[nums[fast]]\n",
                "        head = 0 # 找环入口的标准操作\n",
                "        while slow != head:\n",
                "            slow = nums[slow]\n",
                "            head = nums[head]\n",
                "        return slow\n"
            ]
        }
    ],
    "metadata": {
        "kernelspec": {
            "display_name": "Python 3",
            "language": "python",
            "name": "python3"
        },
        "language_info": {
            "codemirror_mode": {
                "name": "ipython",
                "version": 3
            },
            "file_extension": ".py",
            "mimetype": "text/x-python",
            "name": "python",
            "nbconvert_exporter": "python",
            "pygments_lexer": "ipython3",
            "version": "3.8.8"
        }
    },
    "nbformat": 4,
    "nbformat_minor": 2
}
