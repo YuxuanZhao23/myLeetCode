{
 "cells": [
  {
   "cell_type": "markdown",
   "metadata": {},
   "source": [
    "# 144. Binary Tree Preorder Traversal\n",
    "\n",
    "Given the root of a binary tree, return the preorder traversal of its nodes' values.\n",
    "\n",
    "https://leetcode.com/problems/binary-tree-preorder-traversal/description/"
   ]
  },
  {
   "cell_type": "code",
   "execution_count": null,
   "metadata": {},
   "outputs": [],
   "source": [
    "# Time Complexity: O(N)\n",
    "# Space Complexity: O(logN)\n",
    "def dfs(self, node, result):\n",
    "    if not node: return None\n",
    "    result.append(node.val)\n",
    "    if node.left: self.dfs(node.left, result)\n",
    "    if node.right: self.dfs(node.right, result)"
   ]
  },
  {
   "cell_type": "code",
   "execution_count": null,
   "metadata": {},
   "outputs": [],
   "source": [
    "from collections import deque\n",
    "# Time Complexity: O(N)\n",
    "# Space Complexity: O(W)\n",
    "def bfs(root):\n",
    "    if not root: return []\n",
    "    stack = deque()\n",
    "    stack.append(root)\n",
    "    result = []\n",
    "    while stack:\n",
    "        node = stack.pop()\n",
    "        result.append(node.val)\n",
    "        if node.right: stack.append(node.right)\n",
    "        if node.left: stack.append(node.left)\n",
    "    return result   "
   ]
  }
 ],
 "metadata": {
  "language_info": {
   "name": "python"
  }
 },
 "nbformat": 4,
 "nbformat_minor": 2
}
