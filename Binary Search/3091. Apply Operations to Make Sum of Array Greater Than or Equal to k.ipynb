{
    "cells": [
        {
            "cell_type": "markdown",
            "metadata": {},
            "source": [
                "# 3091. Apply Operations to Make Sum of Array Greater Than or Equal to k\n",
                "\n",
                "You are given a positive integer k. Initially, you have an array nums = [1].\n",
                "\n",
                "You can perform any of the following operations on the array any number of times (possibly zero):\n",
                "\n",
                "Choose any element in the array and increase its value by 1.\n",
                "Duplicate any element in the array and add it to the end of the array.\n",
                "Return the minimum number of operations required to make the sum of elements of the final array greater than or equal to k.\n",
                "\n",
                "https://leetcode.com/problems/apply-operations-to-make-sum-of-array-greater-than-or-equal-to-k/description/"
            ]
        },
        {
            "cell_type": "code",
            "execution_count": 1,
            "metadata": {},
            "outputs": [],
            "source": [
                "class Solution:\n",
                "    # Time Complexity: O(logk)\n",
                "    # Space Complexity: O(1)\n",
                "    def minOperations(self, k: int) -> int:\n",
                "        left = 0\n",
                "        right = k\n",
                "        # 找到第一个 mid ** 2 >= k\n",
                "        while left < right:\n",
                "            mid = left + (right - left)//2\n",
                "            if mid ** 2 < k:\n",
                "                left = mid + 1\n",
                "            else:\n",
                "                right = mid\n",
                "        # 判断一下 mid * (mid - 1) 的情况\n",
                "        if right * (right - 1) >= k: return 2 * right - 3\n",
                "        else: return 2 * right - 2"
            ]
        }
    ],
    "metadata": {
        "kernelspec": {
            "display_name": "Python 3",
            "language": "python",
            "name": "python3"
        },
        "language_info": {
            "codemirror_mode": {
                "name": "ipython",
                "version": 3
            },
            "file_extension": ".py",
            "mimetype": "text/x-python",
            "name": "python",
            "nbconvert_exporter": "python",
            "pygments_lexer": "ipython3",
            "version": "3.8.8"
        }
    },
    "nbformat": 4,
    "nbformat_minor": 2
}
