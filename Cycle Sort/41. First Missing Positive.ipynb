{
    "cells": [
        {
            "cell_type": "markdown",
            "metadata": {},
            "source": [
                "# 41. First Missing Positive\n",
                "\n",
                "Given an unsorted integer array nums. Return the smallest positive integer that is not present in nums.\n",
                "\n",
                "You must implement an algorithm that runs in O(n) time and uses O(1) auxiliary space.\n",
                "\n",
                "https://leetcode.com/problems/first-missing-positive/description/\n",
                "\n",
                "对比 [287. Find the Duplicate Number](https://github.com/YuxuanZhao23/LeetCode/blob/main/Linked%20List/287.%20Find%20the%20Duplicate%20Number.ipynb)，这一道可能会出现不在[1, length]的数字，需要判断只交换在范围内的"
            ]
        },
        {
            "cell_type": "code",
            "execution_count": 1,
            "metadata": {},
            "outputs": [],
            "source": [
                "# Time Complexity: O(N)\n",
                "# Space Complexity: O(1)\n",
                "from typing import List\n",
                "\n",
                "class Solution:\n",
                "    def firstMissingPositive(self, nums: List[int]) -> int:\n",
                "        i, l = 0, len(nums)\n",
                "        while i < l:\n",
                "            target = nums[i]-1\n",
                "            if 0 <= target < l and nums[target] != nums[i]:\n",
                "                nums[i], nums[target] = nums[target], nums[i]\n",
                "            else:\n",
                "                i += 1\n",
                "        for i, n in enumerate(nums):\n",
                "            if n != i+1: return i+1\n",
                "        return l+1"
            ]
        }
    ],
    "metadata": {
        "kernelspec": {
            "display_name": "Python 3",
            "language": "python",
            "name": "python3"
        },
        "language_info": {
            "codemirror_mode": {
                "name": "ipython",
                "version": 3
            },
            "file_extension": ".py",
            "mimetype": "text/x-python",
            "name": "python",
            "nbconvert_exporter": "python",
            "pygments_lexer": "ipython3",
            "version": "3.8.8"
        }
    },
    "nbformat": 4,
    "nbformat_minor": 2
}
