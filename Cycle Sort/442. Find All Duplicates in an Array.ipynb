{
    "cells": [
        {
            "cell_type": "markdown",
            "metadata": {},
            "source": [
                "# 442. Find All Duplicates in an Array\n",
                "\n",
                "Given an integer array nums of length n where all the integers of nums are in the range [1, n] and each integer appears once or twice, return an array of all the integers that appears twice.\n",
                "\n",
                "You must write an algorithm that runs in O(n) time and uses only constant extra space.\n",
                "\n",
                "https://leetcode.com/problems/find-all-duplicates-in-an-array/description/?envType=daily-question&envId=2024-03-25\n",
                "\n",
                "对比 [287. Find the Duplicate Number](https://github.com/YuxuanZhao23/LeetCode/blob/main/Linked%20List/287.%20Find%20the%20Duplicate%20Number.ipynb)，这一题可以修改nums，而且可能有多个重复的数字"
            ]
        },
        {
            "cell_type": "code",
            "execution_count": 1,
            "metadata": {},
            "outputs": [],
            "source": [
                "# Time Complexity: O(N)\n",
                "# Space Complexity: O(1)\n",
                "from typing import List\n",
                "\n",
                "class Solution:\n",
                "    def findDuplicates(self, nums: List[int]) -> List[int]:\n",
                "        i = 0\n",
                "        while i < len(nums):\n",
                "            if nums[nums[i]-1] != nums[i]:\n",
                "                nums[nums[i]-1], nums[i] = nums[i], nums[nums[i]-1]\n",
                "            else:\n",
                "                i += 1\n",
                "        res = []\n",
                "        for i, c in enumerate(nums):\n",
                "            if c != i + 1:\n",
                "                res.append(c)\n",
                "        return res"
            ]
        }
    ],
    "metadata": {
        "kernelspec": {
            "display_name": "Python 3",
            "language": "python",
            "name": "python3"
        },
        "language_info": {
            "codemirror_mode": {
                "name": "ipython",
                "version": 3
            },
            "file_extension": ".py",
            "mimetype": "text/x-python",
            "name": "python",
            "nbconvert_exporter": "python",
            "pygments_lexer": "ipython3",
            "version": "3.8.8"
        }
    },
    "nbformat": 4,
    "nbformat_minor": 2
}
